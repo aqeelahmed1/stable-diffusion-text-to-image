{
  "cells": [
    {
      "cell_type": "code",
      "source": [
        "!pip install -U diffusers\n",
        "!pip install transformers\n",
        "!pip install accelerate\n",
        "!pip install sentencepiece\n",
        "!pip install protobuf"
      ],
      "metadata": {
        "id": "UFLoQlbRZ5D_"
      },
      "id": "UFLoQlbRZ5D_",
      "execution_count": null,
      "outputs": []
    },
    {
      "cell_type": "markdown",
      "source": [
        "## Running Flux Schnell on GPU with RAM>24GB"
      ],
      "metadata": {
        "id": "e8D6ZP7Oaac9"
      },
      "id": "e8D6ZP7Oaac9"
    },
    {
      "cell_type": "code",
      "source": [
        "import torch\n",
        "from diffusers import FluxPipeline\n",
        "import matplotlib.pyplot as plt\n",
        "\n",
        "pipe = FluxPipeline.from_pretrained(\"black-forest-labs/FLUX.1-schnell\", torch_dtype=torch.bfloat16)\n",
        "pipe.enable_model_cpu_offload() #save some VRAM by offloading the model to CPU. Remove this if you have enough GPU power\n",
        "\n",
        "prompt = \"A cat holding a sign that says hello world\"\n",
        "image = pipe(\n",
        "    prompt,\n",
        "    guidance_scale=0.0,\n",
        "    num_inference_steps=4,\n",
        "    max_sequence_length=256,\n",
        "    generator=torch.Generator(\"cpu\").manual_seed(0)\n",
        ").images[0]\n",
        "plt.imshow(image)\n",
        "plt.show()\n",
        "image.save(\"flux-schnell.png\")"
      ],
      "metadata": {
        "id": "R2lKvSk8ajpR"
      },
      "id": "R2lKvSk8ajpR",
      "execution_count": null,
      "outputs": []
    },
    {
      "cell_type": "markdown",
      "source": [
        "# Running Flux Schnell Models on Low RAM GPU"
      ],
      "metadata": {
        "id": "STNfaq0K7Snn"
      },
      "id": "STNfaq0K7Snn"
    },
    {
      "cell_type": "code",
      "source": [
        "from diffusers import FluxPipeline\n",
        "import torch\n",
        "\n",
        "ckpt_id = \"black-forest-labs/FLUX.1-schnell\"\n",
        "prompt = \"A cat holding a sign that says hello world\"\n",
        "height, width = 1024, 1024\n",
        "\n",
        "pipe = FluxPipeline.from_pretrained(\n",
        "    ckpt_id,\n",
        "    torch_dtype=torch.bfloat16,\n",
        ")\n",
        "pipe.vae.enable_tiling()\n",
        "pipe.vae.enable_slicing()\n",
        "pipe.enable_sequential_cpu_offload()\n",
        "image = pipe(\n",
        "    prompt,\n",
        "    num_inference_steps=1,\n",
        "    guidance_scale=0.0,\n",
        "    height=height,\n",
        "    width=width,\n",
        ").images[0]\n",
        "\n",
        "plt.imshow(image)\n",
        "plt.show()"
      ],
      "metadata": {
        "id": "Q1IGa7sFat-h"
      },
      "id": "Q1IGa7sFat-h",
      "execution_count": null,
      "outputs": []
    }
  ],
  "metadata": {
    "kernelspec": {
      "display_name": "Python 3",
      "name": "python3"
    },
    "language_info": {
      "codemirror_mode": {
        "name": "ipython",
        "version": 3
      },
      "file_extension": ".py",
      "mimetype": "text/x-python",
      "name": "python",
      "nbconvert_exporter": "python",
      "pygments_lexer": "ipython3",
      "version": "3.10.12"
    },
    "colab": {
      "provenance": [],
      "gpuType": "T4"
    },
    "accelerator": "GPU"
  },
  "nbformat": 4,
  "nbformat_minor": 5
}